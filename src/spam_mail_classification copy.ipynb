{
  "cells": [
    {
      "attachments": {},
      "cell_type": "markdown",
      "metadata": {
        "id": "kqB21QOgMg-G"
      },
      "source": [
        "Importing the Dependencies"
      ]
    },
    {
      "cell_type": "code",
      "execution_count": 2,
      "metadata": {
        "id": "rALI06-oHusw"
      },
      "outputs": [],
      "source": [
        "import pandas as pd\n",
        "from sklearn.feature_extraction.text import CountVectorizer\n",
        "from sklearn.model_selection import train_test_split\n",
        "from sklearn.metrics import accuracy_score\n",
        "import numpy as np"
      ]
    },
    {
      "attachments": {},
      "cell_type": "markdown",
      "metadata": {
        "id": "YyKe9o2ONeFv"
      },
      "source": [
        "Data Collection & Pre-Processing"
      ]
    },
    {
      "cell_type": "code",
      "execution_count": 3,
      "metadata": {
        "colab": {
          "base_uri": "https://localhost:8080/"
        },
        "id": "IbK82N2gOdar",
        "outputId": "4d1840a1-22b5-468f-d4d0-a4528ef4313c"
      },
      "outputs": [],
      "source": [
        "# Load the dataset\n",
        "data = pd.read_csv('mail_data.csv')\n",
        "\n",
        "# Split the data into features and labels\n",
        "X = data['Message']\n",
        "y = data['Category']"
      ]
    },
    {
      "attachments": {},
      "cell_type": "markdown",
      "metadata": {
        "id": "jvHyqdH8QZPH"
      },
      "source": [
        "Splitting the data into training data & test data"
      ]
    },
    {
      "cell_type": "code",
      "execution_count": 4,
      "metadata": {
        "id": "RO2GmbSNQSQH"
      },
      "outputs": [
        {
          "data": {
            "text/plain": [
              "1978    Reply to win £100 weekly! Where will the 2006 ...\n",
              "3989    Hello. Sort of out in town already. That . So ...\n",
              "3935     How come guoyang go n tell her? Then u told her?\n",
              "4078    Hey sathya till now we dint meet not even a si...\n",
              "4086    Orange brings you ringtones from all time Char...\n",
              "                              ...                        \n",
              "3772    Hi, wlcome back, did wonder if you got eaten b...\n",
              "5191                               Sorry, I'll call later\n",
              "5226        Prabha..i'm soryda..realy..frm heart i'm sory\n",
              "5390                           Nt joking seriously i told\n",
              "860               Did he just say somebody is named tampa\n",
              "Name: Message, Length: 4457, dtype: object"
            ]
          },
          "execution_count": 4,
          "metadata": {},
          "output_type": "execute_result"
        }
      ],
      "source": [
        "# Split the dataset into training and testing sets\n",
        "X_train, X_test, y_train, y_test = train_test_split(X, y, test_size=0.2, random_state=42)\n",
        "X_train"
      ]
    },
    {
      "attachments": {},
      "cell_type": "markdown",
      "metadata": {
        "id": "wYQpiACGSBYM"
      },
      "source": [
        "Feature Extraction"
      ]
    },
    {
      "cell_type": "code",
      "execution_count": 4,
      "metadata": {
        "colab": {
          "base_uri": "https://localhost:8080/",
          "height": 239
        },
        "id": "nLs847nSRibm",
        "outputId": "e9354a35-1ef8-421d-9830-83678723adaa"
      },
      "outputs": [],
      "source": [
        "# Convert the text data into numerical features using CountVectorizer\n",
        "vectorizer = CountVectorizer()\n",
        "X_train_vectorized = vectorizer.fit_transform(X_train)\n",
        "X_test_vectorized = vectorizer.transform(X_test)"
      ]
    },
    {
      "attachments": {},
      "cell_type": "markdown",
      "metadata": {
        "id": "q86FvELbU_SV"
      },
      "source": [
        "Naive Bayes algorithm"
      ]
    },
    {
      "cell_type": "code",
      "execution_count": 5,
      "metadata": {
        "id": "1JeAOwzpUv0V"
      },
      "outputs": [],
      "source": [
        "class NaiveBayes:\n",
        "    def __init__(self):\n",
        "        self.prior = {}\n",
        "        self.conditional = {}\n",
        "\n",
        "    def fit(self, X, y, alpha=1.0):\n",
        "        n_samples = X.shape[0]\n",
        "        n_features = X.shape[1]\n",
        "        \n",
        "        # Calculate prior probabilities\n",
        "        unique_classes, class_counts = np.unique(y, return_counts=True)\n",
        "        for i, class_label in enumerate(unique_classes):\n",
        "            self.prior[class_label] = (class_counts[i] + alpha) / (n_samples + alpha * len(unique_classes))\n",
        "\n",
        "        # Calculate conditional probabilities\n",
        "        for feature_index in range(n_features):\n",
        "            feature_name = vectorizer.get_feature_names_out()[feature_index]\n",
        "            self.conditional[feature_name] = {}\n",
        "            for i, class_label in enumerate(unique_classes):\n",
        "                class_samples = X[y == class_label]\n",
        "                self.conditional[feature_name][class_label] = (\n",
        "                    class_samples[:, feature_index].sum() + alpha\n",
        "                ) / (class_counts[i] + alpha * n_features)\n",
        "\n",
        "    def predict(self, X):\n",
        "        y_pred = []\n",
        "        for sample in X:\n",
        "            probabilities = {}\n",
        "            for class_label in self.prior:\n",
        "                probabilities[class_label] = np.log(self.prior[class_label])\n",
        "                for feature_index, feature_value in enumerate(sample):\n",
        "                    if feature_index in self.conditional and feature_value > 0:\n",
        "                        probabilities[class_label] += np.log(self.conditional[feature_index][class_label])\n",
        "            y_pred.append(max(probabilities, key=probabilities.get))\n",
        "        return y_pred\n"
      ]
    },
    {
      "attachments": {},
      "cell_type": "markdown",
      "metadata": {
        "id": "wZ01fa8dVeL5"
      },
      "source": [
        "Training model"
      ]
    },
    {
      "cell_type": "code",
      "execution_count": 6,
      "metadata": {
        "id": "ExiF2kKxVYtC"
      },
      "outputs": [],
      "source": [
        "# Train a Naive Bayes classifier\n",
        "model = NaiveBayes()\n",
        "model.fit(X_train_vectorized.toarray(), y_train)"
      ]
    },
    {
      "cell_type": "code",
      "execution_count": 7,
      "metadata": {
        "colab": {
          "base_uri": "https://localhost:8080/"
        },
        "id": "o7t4DI5UWCkB",
        "outputId": "49fafbb0-0e7f-40c7-9ab7-4aea165731ee"
      },
      "outputs": [
        {
          "name": "stdout",
          "output_type": "stream",
          "text": [
            "Accuracy: 0.8663677130044843\n"
          ]
        }
      ],
      "source": [
        "# Predict the labels for the test set\n",
        "y_pred = model.predict(X_test_vectorized.toarray())\n",
        "# Calculate the accuracy of the model\n",
        "accuracy = accuracy_score(y_test, y_pred)\n",
        "print('Accuracy:', accuracy)"
      ]
    },
    {
      "cell_type": "code",
      "execution_count": 8,
      "metadata": {
        "id": "cTin5rXTWKg3"
      },
      "outputs": [
        {
          "name": "stdout",
          "output_type": "stream",
          "text": [
            "['ham']\n"
          ]
        }
      ],
      "source": [
        "with open('test.txt', 'r') as file:\n",
        "    input_mail = [file.read()]\n",
        "\n",
        "# Convert text to feature vectors\n",
        "input_data_features = vectorizer.transform(input_mail)\n",
        "\n",
        "# Making prediction\n",
        "prediction = model.predict(input_data_features)\n",
        "print(prediction)"
      ]
    }
  ],
  "metadata": {
    "colab": {
      "provenance": []
    },
    "kernelspec": {
      "display_name": "Python 3",
      "name": "python3"
    },
    "language_info": {
      "codemirror_mode": {
        "name": "ipython",
        "version": 3
      },
      "file_extension": ".py",
      "mimetype": "text/x-python",
      "name": "python",
      "nbconvert_exporter": "python",
      "pygments_lexer": "ipython3",
      "version": "3.10.4"
    }
  },
  "nbformat": 4,
  "nbformat_minor": 0
}
